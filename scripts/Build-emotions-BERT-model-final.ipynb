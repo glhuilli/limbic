{
 "cells": [
  {
   "cell_type": "markdown",
   "metadata": {},
   "source": [
    "# EmoBERT - Transformers Emotion Model Training\n",
    "\n",
    "This notebook is built with the purpose of creating a new machine learning emotions classifier for the `limbic` package using BERT transformer (based on pyTorch). \n",
    "\n",
    "Note that I'm using HuggingFace's distillBERT given that I'm training this model in my personal computer. \n",
    "\n",
    "For this, I'm using the data generated to train the model in `Build-emotions-deep-learning-model-final.ipynb`."
   ]
  },
  {
   "cell_type": "code",
   "execution_count": 1,
   "metadata": {},
   "outputs": [],
   "source": [
    "from limbic.emotion.models.bert_limbic_model import utils\n",
    "from limbic.limbic_types import TrainBertParams, BertBaseUncaseParams\n"
   ]
  },
  {
   "cell_type": "code",
   "execution_count": 2,
   "metadata": {},
   "outputs": [
    {
     "name": "stdout",
     "output_type": "stream",
     "text": [
      "Sun Jan 10 22:30:45 PST 2021\r\n"
     ]
    }
   ],
   "source": [
    "!date"
   ]
  },
  {
   "cell_type": "code",
   "execution_count": 3,
   "metadata": {},
   "outputs": [
    {
     "data": {
      "application/vnd.jupyter.widget-view+json": {
       "model_id": "022c8ed4eb594f68ae8e929b5053532d",
       "version_major": 2,
       "version_minor": 0
      },
      "text/plain": [
       "epochs:   0%|          | 0/5 [00:00<?, ?it/s]"
      ]
     },
     "metadata": {},
     "output_type": "display_data"
    },
    {
     "data": {
      "application/vnd.jupyter.widget-view+json": {
       "model_id": "00c8fd42392f4917ac01ecfa8f31b3f5",
       "version_major": 2,
       "version_minor": 0
      },
      "text/plain": [
       "training [250]:   0%|          | 0/250 [00:00<?, ?it/s]"
      ]
     },
     "metadata": {},
     "output_type": "display_data"
    },
    {
     "data": {
      "application/vnd.jupyter.widget-view+json": {
       "model_id": "23d6a59feaa24143bae3365c0087d4bd",
       "version_major": 2,
       "version_minor": 0
      },
      "text/plain": [
       "evaluate [250]:   0%|          | 0/250 [00:00<?, ?it/s]"
      ]
     },
     "metadata": {},
     "output_type": "display_data"
    },
    {
     "data": {
      "application/vnd.jupyter.widget-view+json": {
       "model_id": "74102c45c1b5463e987572dbb457053f",
       "version_major": 2,
       "version_minor": 0
      },
      "text/plain": [
       "training [250]:   0%|          | 0/250 [00:00<?, ?it/s]"
      ]
     },
     "metadata": {},
     "output_type": "display_data"
    },
    {
     "data": {
      "application/vnd.jupyter.widget-view+json": {
       "model_id": "e8f9c786b7984efd8ba12e5af6a66ff8",
       "version_major": 2,
       "version_minor": 0
      },
      "text/plain": [
       "evaluate [250]:   0%|          | 0/250 [00:00<?, ?it/s]"
      ]
     },
     "metadata": {},
     "output_type": "display_data"
    },
    {
     "data": {
      "application/vnd.jupyter.widget-view+json": {
       "model_id": "f5243b7886f64d6c8bfb6c3c03cbaae3",
       "version_major": 2,
       "version_minor": 0
      },
      "text/plain": [
       "training [250]:   0%|          | 0/250 [00:00<?, ?it/s]"
      ]
     },
     "metadata": {},
     "output_type": "display_data"
    },
    {
     "data": {
      "application/vnd.jupyter.widget-view+json": {
       "model_id": "1b4b9c0f2a4742dabb39afb070030b63",
       "version_major": 2,
       "version_minor": 0
      },
      "text/plain": [
       "evaluate [250]:   0%|          | 0/250 [00:00<?, ?it/s]"
      ]
     },
     "metadata": {},
     "output_type": "display_data"
    },
    {
     "data": {
      "application/vnd.jupyter.widget-view+json": {
       "model_id": "e24047a59d5e47f78e3b454fabc4d1a3",
       "version_major": 2,
       "version_minor": 0
      },
      "text/plain": [
       "training [250]:   0%|          | 0/250 [00:00<?, ?it/s]"
      ]
     },
     "metadata": {},
     "output_type": "display_data"
    },
    {
     "data": {
      "application/vnd.jupyter.widget-view+json": {
       "model_id": "18310704a4894f8bbf2583ff32404245",
       "version_major": 2,
       "version_minor": 0
      },
      "text/plain": [
       "evaluate [250]:   0%|          | 0/250 [00:00<?, ?it/s]"
      ]
     },
     "metadata": {},
     "output_type": "display_data"
    },
    {
     "data": {
      "application/vnd.jupyter.widget-view+json": {
       "model_id": "47d5e18567f74aab9575fb6af4254650",
       "version_major": 2,
       "version_minor": 0
      },
      "text/plain": [
       "training [250]:   0%|          | 0/250 [00:00<?, ?it/s]"
      ]
     },
     "metadata": {},
     "output_type": "display_data"
    },
    {
     "data": {
      "application/vnd.jupyter.widget-view+json": {
       "model_id": "1e1ffd0e8db942eda6f4844b7f88a4c4",
       "version_major": 2,
       "version_minor": 0
      },
      "text/plain": [
       "evaluate [250]:   0%|          | 0/250 [00:00<?, ?it/s]"
      ]
     },
     "metadata": {},
     "output_type": "display_data"
    }
   ],
   "source": [
    "bert_params = BertBaseUncaseParams(\n",
    "    dropout_probability=0.3,\n",
    "    in_linear_features=768,  # Predefined number for HuggingFace's BERT model\n",
    "    num_labels=4\n",
    ")\n",
    "\n",
    "params = TrainBertParams(\n",
    "    emotions_train_file='../data/sentence_emotions_train.pickle',\n",
    "    output_model_path='../data/models/',\n",
    "    bert_path='../data/bert',\n",
    "    device=\"cpu\",\n",
    "    train_batch_size=80,\n",
    "    valid_batch_size=20,\n",
    "    epochs=5,\n",
    "    training_sample=25000,\n",
    "    test_size=0.2,\n",
    "    weight_decay=0.001,\n",
    "    no_decay_components=[\"bias\", \"LayerNorm.bias\", \"LayerNorm.weight\"],\n",
    "    bert_base_uncase_params=bert_params\n",
    ")\n",
    "\n",
    "utils.build_model(params)\n"
   ]
  },
  {
   "cell_type": "code",
   "execution_count": 7,
   "metadata": {},
   "outputs": [
    {
     "name": "stdout",
     "output_type": "stream",
     "text": [
      "Mon Jan 11 12:17:16 PST 2021\r\n"
     ]
    }
   ],
   "source": [
    "!date"
   ]
  },
  {
   "cell_type": "markdown",
   "metadata": {},
   "source": [
    "!du -h ../data/models"
   ]
  },
  {
   "cell_type": "code",
   "execution_count": 8,
   "metadata": {},
   "outputs": [
    {
     "name": "stdout",
     "output_type": "stream",
     "text": [
      "emo_bert_model_2021-01-10.bin\r\n"
     ]
    }
   ],
   "source": [
    "!ls ../data/models"
   ]
  },
  {
   "cell_type": "code",
   "execution_count": null,
   "metadata": {},
   "outputs": [],
   "source": []
  }
 ],
 "metadata": {
  "kernelspec": {
   "display_name": "Python 3",
   "language": "python",
   "name": "python3"
  },
  "language_info": {
   "codemirror_mode": {
    "name": "ipython",
    "version": 3
   },
   "file_extension": ".py",
   "mimetype": "text/x-python",
   "name": "python",
   "nbconvert_exporter": "python",
   "pygments_lexer": "ipython3",
   "version": "3.7.2"
  }
 },
 "nbformat": 4,
 "nbformat_minor": 2
}
